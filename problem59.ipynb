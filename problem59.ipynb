{
 "cells": [
  {
   "cell_type": "markdown",
   "metadata": {},
   "source": [
    "<p>Each character on a computer is assigned a unique code and the preferred standard is ASCII (American Standard Code for Information Interchange). For example, uppercase A = 65, asterisk (*) = 42, and lowercase k = 107.</p>\n",
    "<p>A modern encryption method is to take a text file, convert the bytes to ASCII, then XOR each byte with a given value, taken from a secret key. The advantage with the XOR function is that using the same encryption key on the cipher text, restores the plain text; for example, 65 XOR 42 = 107, then 107 XOR 42 = 65.</p>\n",
    "<p>For unbreakable encryption, the key is the same length as the plain text message, and the key is made up of random bytes. The user would keep the encrypted message and the encryption key in different locations, and without both \"halves\", it is impossible to decrypt the message.</p>\n",
    "<p>Unfortunately, this method is impractical for most users, so the modified method is to use a password as a key. If the password is shorter than the message, which is likely, the key is repeated cyclically throughout the message. The balance for this method is using a sufficiently long password key for security, but short enough to be memorable.</p>\n",
    "<p>Your task has been made easy, as the encryption key consists of three lower case characters. Using <a>0059_cipher.txt</a> (in sources folder), a file containing the encrypted ASCII codes, and the knowledge that the plain text must contain common English words, decrypt the message and find the sum of the ASCII values in the original text.</p>\n",
    "\n",
    "---\n"
   ]
  },
  {
   "cell_type": "markdown",
   "metadata": {},
   "source": [
    "# alrigh...\n",
    "<p> i guess taking cybersecurity payed off, </p> \n",
    "\n",
    "---\n",
    "\n",
    "1. doing conversion \n",
    "2. acessing data (and turning it to a string)\n",
    "3. validating what is considered a \"decoded message\" programaticly\n",
    "4. decrypting & storing all valid decrypts"
   ]
  },
  {
   "cell_type": "markdown",
   "metadata": {},
   "source": [
    "doing conversion\n",
    "---\n",
    "---"
   ]
  },
  {
   "cell_type": "code",
   "execution_count": 1,
   "metadata": {},
   "outputs": [
    {
     "name": "stdout",
     "output_type": "stream",
     "text": [
      "ord: chr -> int: ord('A') =  65\n",
      "chr: int -> chr: chr(65) =  A\n"
     ]
    }
   ],
   "source": [
    "print(\"ord: chr -> int: ord('A') = \",ord(\"A\"))\n",
    "print(\"chr: int -> chr: chr(65) = \",chr(65))"
   ]
  },
  {
   "cell_type": "markdown",
   "metadata": {},
   "source": [
    "acessing data (and turning it to a string)\n",
    "---\n",
    "---"
   ]
  },
  {
   "cell_type": "code",
   "execution_count": 2,
   "metadata": {},
   "outputs": [
    {
     "name": "stdout",
     "output_type": "stream",
     "text": [
      "cipher 0-10:  [36, 22, 80, 0, 0, 4, 23, 25, 19, 17]\n"
     ]
    }
   ],
   "source": [
    "cipher = open(\"SourceData/0059_cipher.txt\",\"r\").read().split(\",\")\n",
    "cipher = list(map(int,cipher))\n",
    "print(\"cipher 0-10: \",cipher[0:10])"
   ]
  },
  {
   "cell_type": "markdown",
   "metadata": {},
   "source": [
    " validating a \"decoded message\" programaticly\n",
    "---\n",
    "---"
   ]
  },
  {
   "cell_type": "code",
   "execution_count": 3,
   "metadata": {},
   "outputs": [],
   "source": [
    "import string\n",
    "\n",
    "def isPrintable(arr):\n",
    "    return all([chr(x) in string.printable for x in arr])\n"
   ]
  },
  {
   "cell_type": "markdown",
   "metadata": {},
   "source": [
    "decrypting & storing all valid decrypts\n",
    "---\n",
    "---"
   ]
  },
  {
   "cell_type": "code",
   "execution_count": 4,
   "metadata": {},
   "outputs": [],
   "source": [
    "def nextKey(key): # crude counting system\n",
    "    for i in range(len(key)):\n",
    "        if key[i] < ord(\"z\"):\n",
    "            key[i] += 1\n",
    "            return key\n",
    "        key[i] = ord('a')\n",
    "    return []"
   ]
  },
  {
   "cell_type": "code",
   "execution_count": 5,
   "metadata": {},
   "outputs": [],
   "source": [
    "\n",
    "def decrypt(cipher,key): # xor cipher with key\n",
    "    return [x^key[i % len(key)] for i, x in enumerate(cipher)]\n",
    "    "
   ]
  },
  {
   "cell_type": "code",
   "execution_count": 6,
   "metadata": {},
   "outputs": [],
   "source": [
    "def numArrToStr(numArr): # convert array of numbers to string\n",
    "    return \"\".join(map(chr,numArr))"
   ]
  },
  {
   "cell_type": "code",
   "execution_count": 9,
   "metadata": {},
   "outputs": [
    {
     "name": "stdout",
     "output_type": "stream",
     "text": [
      "360\n"
     ]
    }
   ],
   "source": [
    "key = [ord(\"a\"),ord(\"a\"),ord(\"a\")]\n",
    "ValidKeys=[]\n",
    "\n",
    "while key:\n",
    "    decrypted = decrypt(cipher,key)\n",
    "    \n",
    "    if isPrintable(decrypted): # check if decrypted is printable\n",
    "        ValidKeys.append(key.copy())\n",
    "    \n",
    "    key = nextKey(key) \n",
    "    \n",
    "print( len(ValidKeys))"
   ]
  },
  {
   "cell_type": "code",
   "execution_count": 18,
   "metadata": {},
   "outputs": [
    {
     "name": "stdout",
     "output_type": "stream",
     "text": [
      "BestKey:  [101, 120, 112]  ->  exp\n",
      "Decrypted:  An extract taken from the introduction of one of Euler's most celebrated papers, \"De summis serierum reciprocarum\" [On the sums of series of reciprocals]: I have recently found, quite unexpectedly, an elegant expression for the entire sum of this series 1 + 1/4 + 1/9 + 1/16 + etc., which depends on the quadrature of the circle, so that if the true sum of this series is obtained, from it at once the quadrature of the circle follows. Namely, I have found that the sum of this series is a sixth part of the square of the perimeter of the circle whose diameter is 1; or by putting the sum of this series equal to s, it has the ratio sqrt(6) multiplied by s to 1 of the perimeter to the diameter. I will soon show that the sum of this series to be approximately 1.644934066842264364; and from multiplying this number by six, and then taking the square root, the number 3.141592653589793238 is indeed produced, which expresses the perimeter of a circle whose diameter is 1. Following again the same steps by which I had arrived at this sum, I have discovered that the sum of the series 1 + 1/16 + 1/81 + 1/256 + 1/625 + etc. also depends on the quadrature of the circle. Namely, the sum of this multiplied by 90 gives the biquadrate (fourth power) of the circumference of the perimeter of a circle whose diameter is 1. And by similar reasoning I have likewise been able to determine the sums of the subsequent series in which the exponents are even numbers.\n",
      "Sum of decrypted:  129448\n"
     ]
    }
   ],
   "source": [
    "# now we have all possible keys, let's see if we can find the right one, \n",
    "# filter time\n",
    "BestKey  = max(ValidKeys, key = lambda key: numArrToStr(decrypt(cipher,key)).count(\" \"))\n",
    "\n",
    "print(\"BestKey: \",BestKey, \" -> \",numArrToStr(BestKey))\n",
    "print(\"Decrypted: \",numArrToStr(decrypt(cipher,BestKey)))\n",
    "print(\"Sum of decrypted: \",sum(decrypt(cipher,BestKey)))"
   ]
  },
  {
   "cell_type": "code",
   "execution_count": null,
   "metadata": {},
   "outputs": [],
   "source": []
  }
 ],
 "metadata": {
  "kernelspec": {
   "display_name": "Python 3",
   "language": "python",
   "name": "python3"
  },
  "language_info": {
   "codemirror_mode": {
    "name": "ipython",
    "version": 3
   },
   "file_extension": ".py",
   "mimetype": "text/x-python",
   "name": "python",
   "nbconvert_exporter": "python",
   "pygments_lexer": "ipython3",
   "version": "3.12.0"
  }
 },
 "nbformat": 4,
 "nbformat_minor": 2
}
