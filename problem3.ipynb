{
 "cells": [
  {
   "cell_type": "markdown",
   "metadata": {},
   "source": [
    "### create a \"Largest prime factor function\""
   ]
  },
  {
   "cell_type": "markdown",
   "metadata": {},
   "source": [
    "note how the loop continues to $\\sqrt{N}$, very cool"
   ]
  },
  {
   "cell_type": "code",
   "execution_count": null,
   "metadata": {},
   "outputs": [],
   "source": [
    "\n",
    "import math\n",
    "\n",
    "def LargestPrimeFactor (N):\n",
    "    for i in range(2,round(math.sqrt(N))+1):\n",
    "        Devisor = N/i\n",
    "        if Devisor != round(Devisor):\n",
    "            continue\n",
    "        return LargestPrimeFactor(max(Devisor,i))\n",
    "    return N\n",
    "\n",
    "\n",
    "print(LargestPrimeFactor(1234567890))"
   ]
  }
 ],
 "metadata": {
  "language_info": {
   "name": "python"
  }
 },
 "nbformat": 4,
 "nbformat_minor": 2
}
