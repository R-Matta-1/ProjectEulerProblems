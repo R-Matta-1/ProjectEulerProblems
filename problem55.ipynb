{
 "cells": [
  {
   "cell_type": "markdown",
   "metadata": {},
   "source": [
    "If we take $47$, reverse and add, $47 + 74 = 121$, which is palindromic.\n",
    "Not all numbers produce palindromes so quickly. For example,\n",
    "$$\n",
    "\\begin{align}\n",
    "349 + 943 = 1292\\\\\n",
    "1292 + 2921 = 4213\\\\\n",
    "4213 + 3124 = 7337\n",
    "\\end{align}\n",
    "$$\n",
    "That is, $349$ took three iterations to arrive at a palindrome.\n",
    "\n",
    "Although no one has proved it yet, it is thought that some numbers, like $196$, never produce a palindrome. A number that never forms a palindrome through the reverse and add process is called a Lychrel number. Due to the theoretical nature of these numbers, and for the purpose of this problem, we shall assume that a number is Lychrel until proven otherwise. In addition you are given that for every number below ten-thousand, it will either (i) become a palindrome in less than fifty iterations, or, (ii) no one, with all the computing power that exists, has managed so far to map it to a palindrome. In fact, $10677$ is the first number to be shown to require over fifty iterations before producing a palindrome: $4668731596684224866951378664$ ($53$ iterations, $28$-digits).\n",
    "\n",
    "Surprisingly, there are palindromic numbers that are themselves Lychrel numbers; the first example is $4994$.\n",
    "How many Lychrel numbers are there below ten-thousand?\n",
    "<p class=\"smaller\">NOTE: Wording was modified slightly on 24 April 2007 to emphasise the theoretical nature of Lychrel numbers.</p>"
   ]
  },
  {
   "cell_type": "code",
   "execution_count": 21,
   "metadata": {},
   "outputs": [],
   "source": [
    "def isPalindrome(name):\n",
    "    name = str(name)\n",
    "    return name == name[::-1]\n",
    "\n",
    "def addReverse(x):\n",
    "    return x + int(str(x)[::-1])\n",
    "\n",
    "def findPalindrome(x):\n",
    "    for i in range(50):\n",
    "        x = addReverse(x)\n",
    "        if(isPalindrome(x)):\n",
    "            return x\n",
    "    return -1\n"
   ]
  },
  {
   "cell_type": "code",
   "execution_count": 23,
   "metadata": {},
   "outputs": [
    {
     "name": "stdout",
     "output_type": "stream",
     "text": [
      "249\n"
     ]
    }
   ],
   "source": [
    "total =0\n",
    "for i in range(1,10000):\n",
    "    total+= findPalindrome(i) == -1\n",
    "print(total)"
   ]
  },
  {
   "cell_type": "code",
   "execution_count": null,
   "metadata": {},
   "outputs": [],
   "source": []
  }
 ],
 "metadata": {
  "kernelspec": {
   "display_name": "Python 3",
   "language": "python",
   "name": "python3"
  },
  "language_info": {
   "codemirror_mode": {
    "name": "ipython",
    "version": 3
   },
   "file_extension": ".py",
   "mimetype": "text/x-python",
   "name": "python",
   "nbconvert_exporter": "python",
   "pygments_lexer": "ipython3",
   "version": "3.12.0"
  }
 },
 "nbformat": 4,
 "nbformat_minor": 2
}
