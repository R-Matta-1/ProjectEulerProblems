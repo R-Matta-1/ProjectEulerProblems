{
 "cells": [
  {
   "cell_type": "markdown",
   "metadata": {},
   "source": [
    "A palindromic number reads the same both ways. The largest palindrome made from the product of two $2$-digit numbers is $9009 = 91 \\times 99$.\n",
    "Find the largest palindrome made from the product of two $3$-digit numbers.\n"
   ]
  },
  {
   "cell_type": "code",
   "execution_count": null,
   "metadata": {
    "tags": [
     "parameters"
    ]
   },
   "outputs": [],
   "source": [
    "def isPalindrome(N):\n",
    "    StrN = str(N)\n",
    "    return StrN == StrN[::-1]"
   ]
  },
  {
   "cell_type": "markdown",
   "metadata": {},
   "source": [
    "well... if we count down starting with i and j at thier largest values... we only the first palemdrome we can find... kind of an aquward adition to the code as i add a single break statment"
   ]
  },
  {
   "cell_type": "code",
   "execution_count": null,
   "metadata": {},
   "outputs": [],
   "source": [
    "\n",
    "maxPal =0\n",
    "maxI =0\n",
    "maxJ =0\n",
    "\n",
    "for i in range(999,100,-1):\n",
    "    for j in range(999,100,-1):\n",
    "        MultIJ = i*j\n",
    "        if isPalindrome(MultIJ) and MultIJ > maxPal:\n",
    "            maxPal = MultIJ\n",
    "            maxI = i \n",
    "            maxJ = j\n",
    "            break\n",
    "print(f\"{maxI} * {maxJ} = {maxPal}\")"
   ]
  }
 ],
 "metadata": {
  "language_info": {
   "name": "python"
  }
 },
 "nbformat": 4,
 "nbformat_minor": 2
}
