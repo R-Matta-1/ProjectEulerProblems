{
 "cells": [
  {
   "cell_type": "markdown",
   "metadata": {},
   "source": [
    "A number chain is created by continuously adding the square of the digits in a number to form a new number until it has been seen before.\n",
    "For example,\n",
    "\\begin{align}\n",
    "44 \\to 32 \\to 13 \\to 10 \\to \\mathbf 1 \\to \\mathbf 1\\\\\n",
    "85 \\to \\mathbf{89} \\to 145 \\to 42 \\to 20 \\to 4 \\to 16 \\to 37 \\to 58 \\to \\mathbf{89}\n",
    "\\end{align}\n",
    "Therefore any chain that arrives at $1$ or $89$ will become stuck in an endless loop. What is most amazing is that EVERY starting number will eventually arrive at $1$ or $89$.\n",
    "How many starting numbers below ten million will arrive at $89$?\n"
   ]
  },
  {
   "cell_type": "code",
   "execution_count": 2,
   "metadata": {},
   "outputs": [],
   "source": [
    "def addDigitSquare(N):\n",
    "    awnser =0\n",
    "    \n",
    "    for i in str(N) :\n",
    "        awnser += int(i) * int(i)\n",
    "    \n",
    "    return awnser"
   ]
  },
  {
   "cell_type": "code",
   "execution_count": 38,
   "metadata": {},
   "outputs": [
    {
     "data": {
      "text/plain": [
       "1"
      ]
     },
     "execution_count": 38,
     "metadata": {},
     "output_type": "execute_result"
    }
   ],
   "source": [
    "def findRoot(N):\n",
    "    while N != 1 and N != 89:\n",
    "        N = addDigitSquare(N)\n",
    "        \n",
    "        \n",
    "    return N\n",
    "\n",
    "findRoot(44)"
   ]
  },
  {
   "cell_type": "markdown",
   "metadata": {},
   "source": [
    "### slow basic looping impliementation\n",
    "###### 1m 18.2s\n",
    "---"
   ]
  },
  {
   "cell_type": "code",
   "execution_count": 39,
   "metadata": {},
   "outputs": [
    {
     "name": "stdout",
     "output_type": "stream",
     "text": [
      "8581146\n"
     ]
    }
   ],
   "source": [
    "tenMill = 10000000\n",
    "\n",
    "\n",
    "NumTo89 =0\n",
    "for i in range(1,tenMill):\n",
    "    rootI =  findRoot(i)\n",
    "    if rootI == 89:\n",
    "        NumTo89 += 1\n",
    "\n",
    "print(NumTo89)"
   ]
  },
  {
   "cell_type": "markdown",
   "metadata": {},
   "source": [
    "### set based, less repetition implementation\n",
    "###### 23.3s\n",
    " we can imagine this as a tree\n",
    " -  the two roots of this tree are 1 and 89, \n",
    " - at any number N, the child of N is addDigitSquare(N)\n",
    " - every N must only have one child, but could contain multiple parents\n",
    "    - like a funnel, filtering into iether 89 or 1\n",
    "\n",
    "from this we figure that,\n",
    "if a letter K has a child of N it must follow the same path to the same root \n",
    "\n",
    "sets where used for that O(1) time, as the index grows \n",
    "\n",
    "\n",
    "\n",
    "---"
   ]
  },
  {
   "cell_type": "code",
   "execution_count": null,
   "metadata": {},
   "outputs": [
    {
     "name": "stdout",
     "output_type": "stream",
     "text": [
      "8581146\n"
     ]
    }
   ],
   "source": [
    "tenMill = 10000000\n",
    "\n",
    "NumTo89 = {89}\n",
    "\n",
    "NumTo1 = {1}\n",
    "\n",
    "TestingNumber =0\n",
    "NumberTree = {}\n",
    "for i in range(1,int(tenMill)):\n",
    "    TestingNumber = i\n",
    "    NumberTree = {i}\n",
    "    while True:\n",
    "        if TestingNumber in NumTo1:\n",
    "            for k in NumberTree: \n",
    "                    NumTo1.add(k)\n",
    "            break\n",
    "\n",
    "        if TestingNumber in NumTo89:\n",
    "            for k in NumberTree: \n",
    "                    NumTo89.add(k)\n",
    "\n",
    "            \n",
    "            break\n",
    "        \n",
    "        TestingNumber = addDigitSquare(TestingNumber)\n",
    "    \n",
    "\n",
    "print(len(NumTo89))"
   ]
  },
  {
   "cell_type": "code",
   "execution_count": null,
   "metadata": {},
   "outputs": [],
   "source": []
  }
 ],
 "metadata": {
  "kernelspec": {
   "display_name": "Python 3",
   "language": "python",
   "name": "python3"
  },
  "language_info": {
   "codemirror_mode": {
    "name": "ipython",
    "version": 3
   },
   "file_extension": ".py",
   "mimetype": "text/x-python",
   "name": "python",
   "nbconvert_exporter": "python",
   "pygments_lexer": "ipython3",
   "version": "3.12.0"
  }
 },
 "nbformat": 4,
 "nbformat_minor": 2
}
