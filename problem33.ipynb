{
 "cells": [
  {
   "cell_type": "markdown",
   "metadata": {},
   "source": [
    "The fraction $49/98$ is a curious fraction, as an inexperienced mathematician in attempting to simplify it may incorrectly believe that $49/98 = 4/8$, which is correct, is obtained by cancelling the $9$s.\n",
    "\n",
    "We shall consider fractions like, $30/50 = 3/5$, to be trivial examples.\n",
    "\n",
    "There are exactly four non-trivial examples of this type of fraction, less than one in value, and containing two digits in the numerator and denominator.\n",
    "If the product of these four fractions is given in its lowest common terms, find the value of the denominator."
   ]
  },
  {
   "cell_type": "code",
   "execution_count": 38,
   "metadata": {},
   "outputs": [],
   "source": [
    "def CancelDigits(top,bottom):\n",
    "    top = str(top)\n",
    "    bottom = str(bottom)\n",
    "    \n",
    "    charInBoth = ''\n",
    "    \n",
    "    for i in top:\n",
    "        if i in bottom:\n",
    "            charInBoth += i\n",
    "            \n",
    "    for repeated in charInBoth:\n",
    "       top= top.replace(repeated,\"\")\n",
    "       bottom= bottom.replace(repeated,\"\")\n",
    "    \n",
    "    if top ==\"\": top =0\n",
    "    if bottom ==\"\": return -1\n",
    "            \n",
    "    return int(top)/int(bottom)\n",
    "\n",
    "def checkSimilarities(str1, str2):\n",
    "    str1 = str(str1)\n",
    "    str2 = str(str2)\n",
    "    for char in str1:\n",
    "        if(char in str2):\n",
    "            return True\n",
    "    return False"
   ]
  },
  {
   "cell_type": "code",
   "execution_count": 45,
   "metadata": {},
   "outputs": [
    {
     "name": "stdout",
     "output_type": "stream",
     "text": [
      "[387296, 38729600]\n"
     ]
    }
   ],
   "source": [
    "curiousFractions = []\n",
    "\n",
    "for bottom in range(10,100):\n",
    "    if(bottom%10 ==0): continue\n",
    "    \n",
    "    for top in range(10,100):\n",
    "        if(top%10 ==0): continue\n",
    "        fraction = top/bottom\n",
    "        wasSimplified = checkSimilarities(top,bottom)\n",
    "        simplified = CancelDigits(top, bottom)\n",
    "        \n",
    "        if(wasSimplified and fraction == simplified and fraction < 1):\n",
    "            curiousFractions.append([top,bottom])\n",
    "            \n",
    "\n",
    "ProductOfCuriosity = [1,1]\n",
    "\n",
    "for frac in curiousFractions:\n",
    "    ProductOfCuriosity[0] *= frac[0]\n",
    "    ProductOfCuriosity[1] *= frac[1]\n",
    "\n",
    "print(ProductOfCuriosity)"
   ]
  },
  {
   "cell_type": "code",
   "execution_count": null,
   "metadata": {},
   "outputs": [],
   "source": []
  }
 ],
 "metadata": {
  "kernelspec": {
   "display_name": "Python 3",
   "language": "python",
   "name": "python3"
  },
  "language_info": {
   "codemirror_mode": {
    "name": "ipython",
    "version": 3
   },
   "file_extension": ".py",
   "mimetype": "text/x-python",
   "name": "python",
   "nbconvert_exporter": "python",
   "pygments_lexer": "ipython3",
   "version": "3.12.0"
  }
 },
 "nbformat": 4,
 "nbformat_minor": 2
}
