{
 "cells": [
  {
   "cell_type": "markdown",
   "metadata": {
    "vscode": {
     "languageId": "html"
    }
   },
   "source": [
    "<p>It is easily proved that no equilateral triangle exists with integral length sides and integral area. However, the <dfn>almost equilateral triangle</dfn> 5-5-6 has an area of 12 square units.</p>\n",
    "<p>We shall define an <dfn>almost equilateral triangle</dfn> to be a triangle for which two sides are equal and the third differs by no more than one unit.</p>\n",
    "<p>Find the sum of the perimeters of all <dfn>almost equilateral triangles</dfn> with integral side lengths and area and whose perimeters do not exceed one billion (1,000,000,000).</p>\n"
   ]
  },
  {
   "cell_type": "code",
   "execution_count": null,
   "metadata": {},
   "outputs": [
    {
     "ename": "KeyboardInterrupt",
     "evalue": "",
     "output_type": "error",
     "traceback": [
      "\u001b[1;31m---------------------------------------------------------------------------\u001b[0m",
      "\u001b[1;31mKeyboardInterrupt\u001b[0m                         Traceback (most recent call last)",
      "Cell \u001b[1;32mIn[102], line 13\u001b[0m\n\u001b[0;32m     11\u001b[0m Max\u001b[38;5;241m=\u001b[39m math\u001b[38;5;241m.\u001b[39mfloor((Bill\u001b[38;5;241m-\u001b[39m\u001b[38;5;241m1\u001b[39m)\u001b[38;5;241m/\u001b[39m\u001b[38;5;241m3\u001b[39m)\n\u001b[0;32m     12\u001b[0m \u001b[38;5;28;01mfor\u001b[39;00m x \u001b[38;5;129;01min\u001b[39;00m \u001b[38;5;28mrange\u001b[39m(\u001b[38;5;241m1\u001b[39m,Max\u001b[38;5;241m+\u001b[39m\u001b[38;5;241m1\u001b[39m):\n\u001b[1;32m---> 13\u001b[0m     \u001b[38;5;28;01mif\u001b[39;00m \u001b[43mAreaOfIsocIsInt\u001b[49m\u001b[43m(\u001b[49m\u001b[43mx\u001b[49m\u001b[43m,\u001b[49m\u001b[43mx\u001b[49m\u001b[38;5;241;43m+\u001b[39;49m\u001b[38;5;241;43m1\u001b[39;49m\u001b[43m)\u001b[49m:\n\u001b[0;32m     14\u001b[0m         total\u001b[38;5;241m+\u001b[39m\u001b[38;5;241m=\u001b[39m x\u001b[38;5;241m*\u001b[39m\u001b[38;5;241m3\u001b[39m\u001b[38;5;241m+\u001b[39m\u001b[38;5;241m1\u001b[39m\n\u001b[0;32m     16\u001b[0m         \u001b[38;5;28;01mif\u001b[39;00m x \u001b[38;5;241m%\u001b[39m \u001b[38;5;241m1000000\u001b[39m \u001b[38;5;241m==\u001b[39m \u001b[38;5;241m0\u001b[39m:\n",
      "Cell \u001b[1;32mIn[102], line 7\u001b[0m, in \u001b[0;36mAreaOfIsocIsInt\u001b[1;34m(a, b)\u001b[0m\n\u001b[0;32m      6\u001b[0m \u001b[38;5;28;01mdef\u001b[39;00m \u001b[38;5;21mAreaOfIsocIsInt\u001b[39m(a,b):\n\u001b[1;32m----> 7\u001b[0m     Area \u001b[38;5;241m=\u001b[39m b\u001b[38;5;241m/\u001b[39m\u001b[38;5;241m2\u001b[39m\u001b[38;5;241m*\u001b[39m\u001b[43mmath\u001b[49m\u001b[38;5;241;43m.\u001b[39;49m\u001b[43msqrt\u001b[49m\u001b[43m(\u001b[49m\u001b[43ma\u001b[49m\u001b[38;5;241;43m*\u001b[39;49m\u001b[43ma\u001b[49m\u001b[38;5;241;43m-\u001b[39;49m\u001b[43mb\u001b[49m\u001b[38;5;241;43m*\u001b[39;49m\u001b[43mb\u001b[49m\u001b[38;5;241;43m/\u001b[39;49m\u001b[38;5;241;43m4\u001b[39;49m\u001b[43m)\u001b[49m\n\u001b[0;32m      8\u001b[0m     FloorArea \u001b[38;5;241m=\u001b[39m \u001b[38;5;28mint\u001b[39m(Area)\n\u001b[0;32m      9\u001b[0m     \u001b[38;5;28;01mreturn\u001b[39;00m FloorArea \u001b[38;5;241m==\u001b[39m Area\n",
      "\u001b[1;31mKeyboardInterrupt\u001b[0m: "
     ]
    }
   ],
   "source": [
    "import math\n",
    "import time\n",
    "\n",
    "Bill = 1000000000\n",
    "\n",
    "total =0\n",
    "def AreaOfIsocIsInt(a,b):\n",
    "    Area = b/2*math.sqrt(a*a-b*b/4)\n",
    "    FloorArea = int(Area)\n",
    "    return FloorArea == Area \n",
    "\n",
    "Max= math.floor((Bill-1)/3)\n",
    "for x in range(1,Max+1):\n",
    "    if AreaOfIsocIsInt(x,x+1):\n",
    "        total+= x*3+1\n",
    "        \n",
    "        if x % 1000000 == 0:\n",
    "            print(x/(Max+1))\n",
    "\n",
    "Max= math.floor((Bill-2)/3)\n",
    "for x in range(1,Max+1):\n",
    "    if AreaOfIsocIsInt(x+1,x):\n",
    "        total += x*3+2\n",
    "        \n",
    "        \n",
    "        if x % 1000000 == 0:\n",
    "            print(x/(Max+1))    \n",
    "\n",
    "    \n",
    "print(total)\n",
    "\n",
    "\n",
    "\n",
    "            "
   ]
  },
  {
   "cell_type": "code",
   "execution_count": 152,
   "metadata": {},
   "outputs": [
    {
     "name": "stdout",
     "output_type": "stream",
     "text": [
      "1679.325\n",
      "186\n"
     ]
    }
   ],
   "source": [
    "def AreaOfIsocIsInt(a,b):\n",
    "    Area = b*math.sqrt((a*a)-(b*b)/4)/2\n",
    "    return int(Area) == Area \n",
    "\n",
    "\n",
    "Operations = 2000000\n",
    "sum=0\n",
    "start =time.time_ns()\n",
    "\n",
    "for x in range(1,Operations):\n",
    "    sum += AreaOfIsocIsInt(x,x+1)\n",
    "    \n",
    "print((time.time_ns()-start)/Operations)\n",
    "print(sum)"
   ]
  },
  {
   "cell_type": "code",
   "execution_count": 112,
   "metadata": {},
   "outputs": [
    {
     "data": {
      "text/plain": [
       "True"
      ]
     },
     "execution_count": 112,
     "metadata": {},
     "output_type": "execute_result"
    }
   ],
   "source": [
    "AreaOfIsocIsInt(5,6)"
   ]
  },
  {
   "cell_type": "code",
   "execution_count": null,
   "metadata": {},
   "outputs": [],
   "source": []
  }
 ],
 "metadata": {
  "kernelspec": {
   "display_name": "Python 3",
   "language": "python",
   "name": "python3"
  },
  "language_info": {
   "codemirror_mode": {
    "name": "ipython",
    "version": 3
   },
   "file_extension": ".py",
   "mimetype": "text/x-python",
   "name": "python",
   "nbconvert_exporter": "python",
   "pygments_lexer": "ipython3",
   "version": "3.12.0"
  }
 },
 "nbformat": 4,
 "nbformat_minor": 2
}
