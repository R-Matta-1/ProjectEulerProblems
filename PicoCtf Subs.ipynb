{
 "cells": [
  {
   "cell_type": "code",
   "execution_count": 65,
   "metadata": {},
   "outputs": [
    {
     "name": "stdout",
     "output_type": "stream",
     "text": [
      "[(175, 'j'), (125, 'f'), (103, 'q'), (102, 'm'), (98, 'g'), (83, 's'), (69, 'x'), (63, 'k'), (61, 'd'), (56, 'n'), (46, 'w'), (42, 'a'), (38, 'l'), (35, 'u'), (34, 'y'), (28, 'v'), (24, 'e'), (20, 'p'), (19, 't'), (15, 'h'), (9, 'c'), (9, 'o'), (5, 'z'), (2, 'i'), (0, 'b'), (0, 'r')]\n"
     ]
    },
    {
     "data": {
      "text/plain": [
       "<BarContainer object of 26 artists>"
      ]
     },
     "execution_count": 65,
     "metadata": {},
     "output_type": "execute_result"
    },
    {
     "data": {
      "image/png": "[encoded data removed]",
      "text/plain": [
       "<Figure size 640x480 with 1 Axes>"
      ]
     },
     "metadata": {},
     "output_type": "display_data"
    }
   ],
   "source": [
    "import string\n",
    "import matplotlib.pyplot as plt\n",
    "\n",
    "text = \"fnjdjjzqsfsjpjdxwmfnjdcjwwjsfxhwqsnjynqensknmmwkmuvafjdsjkadqftkmuvjfqfqmgsqgkwayqgekthjdvxfdqmfxgyaskthjdknxwwjgejfnjsjkmuvjfqfqmgslmkasvdquxdqwtmgstsfjusxyuqgqsfdxfqmglagyxujgfxwscnqknxdjpjdtasjlawxgyuxdojfxhwjsoqwwsnmcjpjdcjhjwqjpjfnjvdmvjdvadvmsjmlxnqensknmmwkmuvafjdsjkadqftkmuvjfqfqmgqsgmfmgwtfmfjxknpxwaxhwjsoqwwshafxwsmfmejfsfayjgfsqgfjdjsfjyqgxgyjzkqfjyxhmafkmuvafjdskqjgkjyjljgsqpjkmuvjfqfqmgsxdjmlfjgwxhmdqmasxllxqdsxgykmujymcgfmdaggqgeknjkowqsfsxgyjzjkafqgekmglqeskdqvfsmlljgsjmgfnjmfnjdnxgyqsnjxpqwtlmkasjymgjzvwmdxfqmgxgyquvdmpqsxfqmgxgymlfjgnxsjwjujgfsmlvwxtcjhjwqjpjxkmuvjfqfqmgfmaknqgemgfnjmlljgsqpjjwjujgfsmlkmuvafjdsjkadqftqsfnjdjlmdjxhjffjdpjnqkwjlmdfjknjpxgejwqsufmsfayjgfsqgxujdqkxgnqensknmmwsladfnjdcjhjwqjpjfnxfxgagyjdsfxgyqgemlmlljgsqpjfjkngqiajsqsjssjgfqxwlmdumagfqgexgjlljkfqpjyjljgsjxgyfnxffnjfmmwsxgykmglqeadxfqmglmkasjgkmagfjdjyqgyjljgsqpjkmuvjfqfqmgsymjsgmfwjxysfayjgfsfmogmcfnjqdjgjutxsjlljkfqpjwtxsfjxknqgefnjufmxkfqpjwtfnqgowqojxgxffxkojdvqkmkflqsxgmlljgsqpjwtmdqjgfjynqensknmmwkmuvafjdsjkadqftkmuvjfqfqmgfnxfsjjosfmejgjdxfjqgfjdjsfqgkmuvafjdskqjgkjxumgenqensknmmwjdsfjxknqgefnjujgmaenxhmafkmuvafjdsjkadqftfmvqiajfnjqdkadqmsqftumfqpxfqgefnjufmjzvwmdjmgfnjqdmcgxgyjgxhwqgefnjufmhjffjdyjljgyfnjqduxknqgjsfnjlwxeqsvqkmKFL{G6D4U_4G41T515_15_73Y10A5_42JX1770}\"\n",
    "# thats a substitution cypher, cool cool\n",
    "\n",
    "letters = list(string.ascii_lowercase)\n",
    "frequency = [0]*26\n",
    "\n",
    "for x in string.ascii_lowercase:\n",
    "    frequency[string.ascii_lowercase.find(x.lower())] = text.lower().count(x)\n",
    "\n",
    "letterFrequency = list((x,string.ascii_lowercase[i]) for i,x in enumerate(frequency))\n",
    "letterFrequency.sort(key=lambda x:x[0], reverse=True)\n",
    "print(letterFrequency)\n",
    "\n",
    "orderedFreq=list( map(lambda x:x[0]/sum(frequency),letterFrequency))\n",
    "orderedLetters =list( map(lambda x:x[1],letterFrequency))\n",
    "\n",
    "plt.cla()\n",
    "plt.bar(orderedLetters,orderedFreq)"
   ]
  },
  {
   "cell_type": "code",
   "execution_count": 78,
   "metadata": {},
   "outputs": [
    {
     "name": "stdout",
     "output_type": "stream",
     "text": [
      "THEREEzISTSEpERALOTHERcELLESTAhLISHEDHIGHSCHOOLCOMPUTERSECURITYCOMPETITIONSINCLUDINGCYhERPATRIOTANDUSCYhERCHALLENGETHESECOMPETITIONSFOCUSPRIMARILYONSYSTEMSADMINISTRATIONFUNDAMENTALScHICHAREpERYUSEFULANDMARoETAhLESoILLSHOcEpERcEhELIEpETHEPROPERPURPOSEOFAHIGHSCHOOLCOMPUTERSECURITYCOMPETITIONISNOTONLYTOTEACHpALUAhLESoILLShUTALSOTOGETSTUDENTSINTERESTEDINANDEzCITEDAhOUTCOMPUTERSCIENCEDEFENSIpECOMPETITIONSAREOFTENLAhORIOUSAFFAIRSANDCOMEDOcNTORUNNINGCHECoLISTSANDEzECUTINGCONFIGSCRIPTSOFFENSEONTHEOTHERHANDISHEApILYFOCUSEDONEzPLORATIONANDIMPROpISATIONANDOFTENHASELEMENTSOFPLAYcEhELIEpEACOMPETITIONTOUCHINGONTHEOFFENSIpEELEMENTSOFCOMPUTERSECURITYISTHEREFOREAhETTERpEHICLEFORTECHEpANGELISMTOSTUDENTSINAMERICANHIGHSCHOOLSFURTHERcEhELIEpETHATANUNDERSTANDINGOFOFFENSIpETECHNIiUESISESSENTIALFORMOUNTINGANEFFECTIpEDEFENSEANDTHATTHETOOLSANDCONFIGURATIONFOCUSENCOUNTEREDINDEFENSIpECOMPETITIONSDOESNOTLEADSTUDENTSTOoNOcTHEIRENEMYASEFFECTIpELYASTEACHINGTHEMTOACTIpELYTHINoLIoEANATTACoERPICOCTFISANOFFENSIpELYORIENTEDHIGHSCHOOLCOMPUTERSECURITYCOMPETITIONTHATSEEoSTOGENERATEINTERESTINCOMPUTERSCIENCEAMONGHIGHSCHOOLERSTEACHINGTHEMENOUGHAhOUTCOMPUTERSECURITYTOPIiUETHEIRCURIOSITYMOTIpATINGTHEMTOEzPLOREONTHEIROcNANDENAhLINGTHEMTOhETTERDEFENDTHEIRMACHINESTHEFLAGISPICOCTF{N6R4M_4N41Y515_15_73D10U5_42EA1770}\n"
     ]
    }
   ],
   "source": [
    "# now we have some data we can use it and finish this like sodoku\n",
    "# now i just continously try to restore some alpahbet\n",
    "\n",
    "decodedTxt = ''\n",
    "\n",
    "#   picoCTF = vqkmKFL \n",
    "#   coMpetitioN =COuPETITIOg\n",
    "#   fnW = the\n",
    "#   ONTHEOTHEd = ontheother\n",
    "#   EONTHEOTHERHxNy = ontheotherhand\n",
    "#   ADMINIsTRATION = wow s is the same\n",
    "#   COMPaTERSCIENCEAMONeHIeHSCHOOwERSTEACHINeTHEM\n",
    "#   compUterscienceamonGhiGhschooLersteachinGthem\n",
    "#   COMPUTERSECURITt\n",
    "#   COMPUTERSECURITY\n",
    "#   we know fom the graph l is probably E\n",
    "#   we know fom the graph f is probably a but t is up thier in the lsit\n",
    "#           ABCDEFGHIJKLMNOPQRSTUVWXYZ\n",
    "newAlph  = \"U--RGTN--ECFOH--I-SYMPLAD-\"\n",
    "\n",
    "for x in text:\n",
    "    if x in string.ascii_letters:\n",
    "        newChar = newAlph[ord(x.lower())-97]\n",
    "        if newChar == \"-\":\n",
    "            newChar = x\n",
    "    else:  newChar = x\n",
    "    decodedTxt += newChar\n",
    "print(decodedTxt)"
   ]
  }
 ],
 "metadata": {
  "kernelspec": {
   "display_name": "Python 3",
   "language": "python",
   "name": "python3"
  },
  "language_info": {
   "codemirror_mode": {
    "name": "ipython",
    "version": 3
   },
   "file_extension": ".py",
   "mimetype": "text/x-python",
   "name": "python",
   "nbconvert_exporter": "python",
   "pygments_lexer": "ipython3",
   "version": "3.12.0"
  }
 },
 "nbformat": 4,
 "nbformat_minor": 2
}
